{
 "cells": [
  {
   "cell_type": "markdown",
   "id": "97498c3c-5899-468d-af94-e7864c030131",
   "metadata": {},
   "source": [
    "FOOD RECOMMENDATION\n"
   ]
  },
  {
   "cell_type": "code",
   "execution_count": 1,
   "id": "e2a4840a-424b-46ab-92e3-3d0bdf549f15",
   "metadata": {},
   "outputs": [],
   "source": [
    "import pandas as pd\n",
    "from sklearn.model_selection import train_test_split\n",
    "from sklearn.neighbors import NearestNeighbors\n",
    "from sklearn.preprocessing import LabelEncoder\n",
    "from sklearn.metrics import accuracy_score\n",
    "\n",
    "import random\n",
    "import numpy as np\n",
    "import matplotlib.pyplot as plt\n",
    "import seaborn as sns\n"
   ]
  },
  {
   "cell_type": "code",
   "execution_count": 2,
   "id": "64497d7d-f09e-4ceb-9697-4ea88072ef23",
   "metadata": {},
   "outputs": [],
   "source": [
    "data = pd.read_csv('Desktop/data/food.csv')"
   ]
  },
  {
   "cell_type": "code",
   "execution_count": 3,
   "id": "2fcb0f57-f6ce-4768-8827-1334f2d5eb32",
   "metadata": {},
   "outputs": [],
   "source": [
    "data = data[['name', 'diet', 'flavor_profile', 'course', 'img_url']]\n"
   ]
  },
  {
   "cell_type": "code",
   "execution_count": 4,
   "id": "57f1818c-5a5c-4e9b-98be-439bd93c96bf",
   "metadata": {},
   "outputs": [],
   "source": [
    "data.rename(columns={\n",
    "    \"flavor_profile\":\"flavour\"},\n",
    "    inplace = True)\n",
    "    "
   ]
  },
  {
   "cell_type": "code",
   "execution_count": 5,
   "id": "9d947c77-cf7e-47ae-b55d-85b9fabf8c38",
   "metadata": {},
   "outputs": [],
   "source": [
    "data=data[data['flavour']!='-1']"
   ]
  },
  {
   "cell_type": "code",
   "execution_count": 6,
   "id": "8c08e92e-b757-4fe9-9b4c-d951e93b88b3",
   "metadata": {},
   "outputs": [
    {
     "data": {
      "text/plain": [
       "(4,)"
      ]
     },
     "execution_count": 6,
     "metadata": {},
     "output_type": "execute_result"
    }
   ],
   "source": [
    "data['flavour'].unique().shape"
   ]
  },
  {
   "cell_type": "code",
   "execution_count": 7,
   "id": "65d80f15-1d79-4107-90ef-93f65f30194d",
   "metadata": {},
   "outputs": [
    {
     "name": "stdout",
     "output_type": "stream",
     "text": [
      "['dessert' 'main course' 'snack' 'starter']\n"
     ]
    }
   ],
   "source": [
    "unique_courses = data['course'].unique()\n",
    "print(unique_courses)\n"
   ]
  },
  {
   "cell_type": "code",
   "execution_count": 8,
   "id": "ad908d87-a4dd-4c57-9ebc-c639caf9902d",
   "metadata": {},
   "outputs": [
    {
     "name": "stdout",
     "output_type": "stream",
     "text": [
      "['sweet' 'spicy' 'bitter' 'sour']\n"
     ]
    }
   ],
   "source": [
    "\n",
    "unique_flavours = data['flavour'].unique()\n",
    "print(unique_flavours)\n"
   ]
  },
  {
   "cell_type": "code",
   "execution_count": 9,
   "id": "34c17213-eee9-4c77-8f1a-4ef3559079f5",
   "metadata": {},
   "outputs": [
    {
     "data": {
      "text/plain": [
       "(2,)"
      ]
     },
     "execution_count": 9,
     "metadata": {},
     "output_type": "execute_result"
    }
   ],
   "source": [
    "data['diet'].unique().shape"
   ]
  },
  {
   "cell_type": "code",
   "execution_count": 10,
   "id": "f47c08c3-4e36-489c-9b4e-13e0adb6287c",
   "metadata": {},
   "outputs": [],
   "source": [
    "train_data, test_data = train_test_split(data, test_size=0.2, random_state=42)"
   ]
  },
  {
   "cell_type": "code",
   "execution_count": 11,
   "id": "45c745f5-c2f0-4895-9d95-3df7654c238d",
   "metadata": {},
   "outputs": [],
   "source": [
    "model = NearestNeighbors(n_neighbors=5)\n"
   ]
  },
  {
   "cell_type": "code",
   "execution_count": 12,
   "id": "f446783b-489b-4bc9-88e4-06925ad2c051",
   "metadata": {},
   "outputs": [],
   "source": [
    "label_encoder = LabelEncoder()\n"
   ]
  },
  {
   "cell_type": "code",
   "execution_count": 13,
   "id": "bf67937c-f5b1-447d-a6c9-cc5513ea23bf",
   "metadata": {},
   "outputs": [],
   "source": [
    "train_data['flavour_encoded'] = label_encoder.fit_transform(train_data['flavour'])\n",
    "train_data['diet_encoded'] = label_encoder.fit_transform(train_data['diet'])\n",
    "train_data['course_encoded'] = label_encoder.fit_transform(train_data['course'])\n",
    "\n"
   ]
  },
  {
   "cell_type": "code",
   "execution_count": 14,
   "id": "de0a9304-828d-4d10-ac8c-684151c74d0e",
   "metadata": {},
   "outputs": [
    {
     "data": {
      "text/html": [
       "<style>#sk-container-id-1 {color: black;background-color: white;}#sk-container-id-1 pre{padding: 0;}#sk-container-id-1 div.sk-toggleable {background-color: white;}#sk-container-id-1 label.sk-toggleable__label {cursor: pointer;display: block;width: 100%;margin-bottom: 0;padding: 0.3em;box-sizing: border-box;text-align: center;}#sk-container-id-1 label.sk-toggleable__label-arrow:before {content: \"▸\";float: left;margin-right: 0.25em;color: #696969;}#sk-container-id-1 label.sk-toggleable__label-arrow:hover:before {color: black;}#sk-container-id-1 div.sk-estimator:hover label.sk-toggleable__label-arrow:before {color: black;}#sk-container-id-1 div.sk-toggleable__content {max-height: 0;max-width: 0;overflow: hidden;text-align: left;background-color: #f0f8ff;}#sk-container-id-1 div.sk-toggleable__content pre {margin: 0.2em;color: black;border-radius: 0.25em;background-color: #f0f8ff;}#sk-container-id-1 input.sk-toggleable__control:checked~div.sk-toggleable__content {max-height: 200px;max-width: 100%;overflow: auto;}#sk-container-id-1 input.sk-toggleable__control:checked~label.sk-toggleable__label-arrow:before {content: \"▾\";}#sk-container-id-1 div.sk-estimator input.sk-toggleable__control:checked~label.sk-toggleable__label {background-color: #d4ebff;}#sk-container-id-1 div.sk-label input.sk-toggleable__control:checked~label.sk-toggleable__label {background-color: #d4ebff;}#sk-container-id-1 input.sk-hidden--visually {border: 0;clip: rect(1px 1px 1px 1px);clip: rect(1px, 1px, 1px, 1px);height: 1px;margin: -1px;overflow: hidden;padding: 0;position: absolute;width: 1px;}#sk-container-id-1 div.sk-estimator {font-family: monospace;background-color: #f0f8ff;border: 1px dotted black;border-radius: 0.25em;box-sizing: border-box;margin-bottom: 0.5em;}#sk-container-id-1 div.sk-estimator:hover {background-color: #d4ebff;}#sk-container-id-1 div.sk-parallel-item::after {content: \"\";width: 100%;border-bottom: 1px solid gray;flex-grow: 1;}#sk-container-id-1 div.sk-label:hover label.sk-toggleable__label {background-color: #d4ebff;}#sk-container-id-1 div.sk-serial::before {content: \"\";position: absolute;border-left: 1px solid gray;box-sizing: border-box;top: 0;bottom: 0;left: 50%;z-index: 0;}#sk-container-id-1 div.sk-serial {display: flex;flex-direction: column;align-items: center;background-color: white;padding-right: 0.2em;padding-left: 0.2em;position: relative;}#sk-container-id-1 div.sk-item {position: relative;z-index: 1;}#sk-container-id-1 div.sk-parallel {display: flex;align-items: stretch;justify-content: center;background-color: white;position: relative;}#sk-container-id-1 div.sk-item::before, #sk-container-id-1 div.sk-parallel-item::before {content: \"\";position: absolute;border-left: 1px solid gray;box-sizing: border-box;top: 0;bottom: 0;left: 50%;z-index: -1;}#sk-container-id-1 div.sk-parallel-item {display: flex;flex-direction: column;z-index: 1;position: relative;background-color: white;}#sk-container-id-1 div.sk-parallel-item:first-child::after {align-self: flex-end;width: 50%;}#sk-container-id-1 div.sk-parallel-item:last-child::after {align-self: flex-start;width: 50%;}#sk-container-id-1 div.sk-parallel-item:only-child::after {width: 0;}#sk-container-id-1 div.sk-dashed-wrapped {border: 1px dashed gray;margin: 0 0.4em 0.5em 0.4em;box-sizing: border-box;padding-bottom: 0.4em;background-color: white;}#sk-container-id-1 div.sk-label label {font-family: monospace;font-weight: bold;display: inline-block;line-height: 1.2em;}#sk-container-id-1 div.sk-label-container {text-align: center;}#sk-container-id-1 div.sk-container {/* jupyter's `normalize.less` sets `[hidden] { display: none; }` but bootstrap.min.css set `[hidden] { display: none !important; }` so we also need the `!important` here to be able to override the default hidden behavior on the sphinx rendered scikit-learn.org. See: https://github.com/scikit-learn/scikit-learn/issues/21755 */display: inline-block !important;position: relative;}#sk-container-id-1 div.sk-text-repr-fallback {display: none;}</style><div id=\"sk-container-id-1\" class=\"sk-top-container\"><div class=\"sk-text-repr-fallback\"><pre>NearestNeighbors()</pre><b>In a Jupyter environment, please rerun this cell to show the HTML representation or trust the notebook. <br />On GitHub, the HTML representation is unable to render, please try loading this page with nbviewer.org.</b></div><div class=\"sk-container\" hidden><div class=\"sk-item\"><div class=\"sk-estimator sk-toggleable\"><input class=\"sk-toggleable__control sk-hidden--visually\" id=\"sk-estimator-id-1\" type=\"checkbox\" checked><label for=\"sk-estimator-id-1\" class=\"sk-toggleable__label sk-toggleable__label-arrow\">NearestNeighbors</label><div class=\"sk-toggleable__content\"><pre>NearestNeighbors()</pre></div></div></div></div></div>"
      ],
      "text/plain": [
       "NearestNeighbors()"
      ]
     },
     "execution_count": 14,
     "metadata": {},
     "output_type": "execute_result"
    }
   ],
   "source": [
    "model.fit(train_data[['flavour_encoded', 'diet_encoded', 'course_encoded']])\n"
   ]
  },
  {
   "cell_type": "code",
   "execution_count": 15,
   "id": "88ed2fa7-0fc2-4064-a7a5-c1a59cdb5fc5",
   "metadata": {},
   "outputs": [
    {
     "name": "stdout",
     "output_type": "stream",
     "text": [
      "Random recommendations for 'Amti':\n",
      "Navrattan korma\n",
      "Mushroom matar\n",
      "Paravannam\n",
      "Paratha\n",
      "Kootu\n",
      "Koshimbir\n",
      "Total recommendations: 6\n"
     ]
    }
   ],
   "source": [
    "\n",
    "def get_recommendations(food_name):\n",
    "    if food_name not in data['name'].values:\n",
    "        print(f\"Food '{food_name}' not found in the dataset.\")\n",
    "        return [], 0\n",
    "\n",
    "    food_row = data[data['name'] == food_name].iloc[0]\n",
    "    flavor = food_row['flavour']\n",
    "    diet = food_row['diet']\n",
    "    course = food_row['course']\n",
    "    similar_items = data[(data['flavour'] == flavor) &\n",
    "                         (data['diet'] == diet) &\n",
    "                         (data['course'] == course)]\n",
    "    \n",
    "    random_recommendations = random.sample(range(len(similar_items)), min(6, len(similar_items)))\n",
    "    recommended_foods = similar_items.iloc[random_recommendations]\n",
    "\n",
    "    return recommended_foods, len(recommended_foods)\n",
    "\n",
    "food_name = 'Amti'\n",
    "recommendations, num_recommendations = get_recommendations(food_name)\n",
    "print(f\"Random recommendations for '{food_name}':\")\n",
    "for _, row in recommendations.iterrows():\n",
    "    print(row['name'])\n",
    "print(f\"Total recommendations: {num_recommendations}\")\n"
   ]
  }
 ],
 "metadata": {
  "kernelspec": {
   "display_name": "Python 3 (ipykernel)",
   "language": "python",
   "name": "python3"
  },
  "language_info": {
   "codemirror_mode": {
    "name": "ipython",
    "version": 3
   },
   "file_extension": ".py",
   "mimetype": "text/x-python",
   "name": "python",
   "nbconvert_exporter": "python",
   "pygments_lexer": "ipython3",
   "version": "3.11.7"
  }
 },
 "nbformat": 4,
 "nbformat_minor": 5
}
